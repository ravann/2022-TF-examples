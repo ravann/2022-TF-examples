{
  "nbformat": 4,
  "nbformat_minor": 0,
  "metadata": {
    "colab": {
      "name": "Untitled1.ipynb",
      "provenance": [],
      "authorship_tag": "ABX9TyMEdxDQVldO1uf5PykAr/0x",
      "include_colab_link": true
    },
    "kernelspec": {
      "name": "python3",
      "display_name": "Python 3"
    },
    "language_info": {
      "name": "python"
    }
  },
  "cells": [
    {
      "cell_type": "markdown",
      "metadata": {
        "id": "view-in-github",
        "colab_type": "text"
      },
      "source": [
        "<a href=\"https://colab.research.google.com/github/ravann/2022-TF-examples/blob/master/courses/udacity_intro_to_tensorflow_for_deep_learning/l02c01_play.ipynb\" target=\"_parent\"><img src=\"https://colab.research.google.com/assets/colab-badge.svg\" alt=\"Open In Colab\"/></a>"
      ]
    },
    {
      "cell_type": "markdown",
      "source": [
        "## Purpose\n",
        "\n",
        "Build a model to predict the equation : y = 3x + 20"
      ],
      "metadata": {
        "id": "tF4zEGIxaTVI"
      }
    },
    {
      "cell_type": "code",
      "source": [
        "## Import dependencies\n",
        "\n",
        "import numpy as np\n",
        "import tensorflow as tf\n",
        "import logging"
      ],
      "metadata": {
        "id": "GKZSn8mcabaa"
      },
      "execution_count": 1,
      "outputs": []
    },
    {
      "cell_type": "markdown",
      "source": [
        "## Sample values\n",
        "\n"
      ],
      "metadata": {
        "id": "kfyIr4rJaoXt"
      }
    },
    {
      "cell_type": "code",
      "source": [
        "x = np.array([5.0, 6.6, 22.12, 55.5, 87.6, 9, 202.8], dtype=float)"
      ],
      "metadata": {
        "id": "HTM0WhRjaHrN"
      },
      "execution_count": 2,
      "outputs": []
    },
    {
      "cell_type": "code",
      "source": [
        "y = 3 * x + 20"
      ],
      "metadata": {
        "id": "dNynuWhzalAO"
      },
      "execution_count": 3,
      "outputs": []
    },
    {
      "cell_type": "code",
      "source": [
        "y"
      ],
      "metadata": {
        "colab": {
          "base_uri": "https://localhost:8080/"
        },
        "id": "bhsQWepZa--w",
        "outputId": "69425608-464f-413b-8316-7a2e5ae9f8d6"
      },
      "execution_count": 4,
      "outputs": [
        {
          "output_type": "execute_result",
          "data": {
            "text/plain": [
              "array([ 35.  ,  39.8 ,  86.36, 186.5 , 282.8 ,  47.  , 628.4 ])"
            ]
          },
          "metadata": {},
          "execution_count": 4
        }
      ]
    },
    {
      "cell_type": "markdown",
      "source": [
        "## Build the model"
      ],
      "metadata": {
        "id": "7Ue42YHpbRFc"
      }
    },
    {
      "cell_type": "code",
      "source": [
        "l0 = tf.keras.layers.Dense(units=1, input_shape=[1])\n",
        "model = tf.keras.Sequential([l0])"
      ],
      "metadata": {
        "id": "AL-L1PmYbPBK"
      },
      "execution_count": 5,
      "outputs": []
    },
    {
      "cell_type": "code",
      "source": [
        "model.compile(loss='mean_squared_error',\n",
        "              optimizer=tf.keras.optimizers.Adam(0.1))"
      ],
      "metadata": {
        "id": "F2MNEctRbCId"
      },
      "execution_count": 6,
      "outputs": []
    },
    {
      "cell_type": "markdown",
      "source": [
        "## Train the model"
      ],
      "metadata": {
        "id": "HLw9ock2bwDP"
      }
    },
    {
      "cell_type": "code",
      "source": [
        "history = model.fit(x, y, epochs=500, verbose=False)\n",
        "print(\"Finished training the model\")"
      ],
      "metadata": {
        "colab": {
          "base_uri": "https://localhost:8080/"
        },
        "id": "laHSnMPLbqCt",
        "outputId": "08fc6c6e-18b0-41fa-d218-7233ce0378af"
      },
      "execution_count": 7,
      "outputs": [
        {
          "output_type": "stream",
          "name": "stdout",
          "text": [
            "Finished training the model\n"
          ]
        }
      ]
    },
    {
      "cell_type": "code",
      "source": [
        "import seaborn as sns\n",
        "import matplotlib.pyplot as plt\n",
        "\n",
        "sns.set_theme(style=\"ticks\")\n",
        "\n",
        "xaxs_val = np.arange(1, len(history.history['loss']) + 1)\n",
        "\n",
        "axs = sns.lineplot(x = xaxs_val, y = history.history['loss'])\n",
        "axs.set(xlabel='Epoch Number', ylabel='Loss', title = 'Loss Per Epoch')\n",
        "\n",
        "plt.show()"
      ],
      "metadata": {
        "colab": {
          "base_uri": "https://localhost:8080/",
          "height": 301
        },
        "id": "E-hd51uYcSg6",
        "outputId": "682adc79-3b71-4592-c923-5cb4ee1eadef"
      },
      "execution_count": 8,
      "outputs": [
        {
          "output_type": "display_data",
          "data": {
            "image/png": "[encoded data removed]",
            "text/plain": [
              "<Figure size 432x288 with 1 Axes>"
            ]
          },
          "metadata": {}
        }
      ]
    },
    {
      "cell_type": "markdown",
      "source": [
        "## Predict some values and compare with the expected values"
      ],
      "metadata": {
        "id": "-KxGzYeGmvZy"
      }
    },
    {
      "cell_type": "code",
      "source": [
        "predict_x = np.array([1, 2, 3, 4, 5, 120, 150, 180], dtype=float)"
      ],
      "metadata": {
        "id": "ffll3w8VcvP-"
      },
      "execution_count": 9,
      "outputs": []
    },
    {
      "cell_type": "code",
      "source": [
        "expected = predict_x * 3 + 20\n",
        "expected"
      ],
      "metadata": {
        "colab": {
          "base_uri": "https://localhost:8080/"
        },
        "id": "NCRKxUTbm8Ew",
        "outputId": "36f7a609-d861-448d-fcae-4e9f7ead7411"
      },
      "execution_count": 10,
      "outputs": [
        {
          "output_type": "execute_result",
          "data": {
            "text/plain": [
              "array([ 23.,  26.,  29.,  32.,  35., 380., 470., 560.])"
            ]
          },
          "metadata": {},
          "execution_count": 10
        }
      ]
    },
    {
      "cell_type": "code",
      "source": [
        "model.predict(predict_x)"
      ],
      "metadata": {
        "colab": {
          "base_uri": "https://localhost:8080/"
        },
        "id": "3p7MZm1unCCk",
        "outputId": "24c89fa3-9358-4c08-f7eb-c43ffd6018de"
      },
      "execution_count": 11,
      "outputs": [
        {
          "output_type": "execute_result",
          "data": {
            "text/plain": [
              "array([[ 14.528703],\n",
              "       [ 17.592451],\n",
              "       [ 20.656199],\n",
              "       [ 23.719946],\n",
              "       [ 26.783693],\n",
              "       [379.1147  ],\n",
              "       [471.0271  ],\n",
              "       [562.9395  ]], dtype=float32)"
            ]
          },
          "metadata": {},
          "execution_count": 11
        }
      ]
    },
    {
      "cell_type": "code",
      "source": [
        "l0.get_weights()"
      ],
      "metadata": {
        "id": "coXLq3b5bmfG",
        "outputId": "69c0e366-42c2-401b-b7d4-98349edeb26e",
        "colab": {
          "base_uri": "https://localhost:8080/"
        }
      },
      "execution_count": 12,
      "outputs": [
        {
          "output_type": "execute_result",
          "data": {
            "text/plain": [
              "[array([[3.0637476]], dtype=float32), array([11.464955], dtype=float32)]"
            ]
          },
          "metadata": {},
          "execution_count": 12
        }
      ]
    },
    {
      "cell_type": "markdown",
      "source": [
        "### Observation\n",
        "\n",
        "The model performs well at large numbers.  Is it because the model is not trained well at small numbers?"
      ],
      "metadata": {
        "id": "QYgC4h5PnTYU"
      }
    },
    {
      "cell_type": "markdown",
      "source": [
        "## Retrain the model with more snall numbers"
      ],
      "metadata": {
        "id": "Pb8NDvcOnhzE"
      }
    },
    {
      "cell_type": "code",
      "source": [
        "new_features = np.array([1, 3, 2.5, 3.6, 4.8, 5.9, 6, 9, 11, 12.4, 13.56, 15.8, 22, 25, 28, 32, 45, 78, 200, 2345.78], dtype=float)\n",
        "new_labels = new_features * 3 + 20"
      ],
      "metadata": {
        "id": "YjBrk-jKnK4Q"
      },
      "execution_count": 13,
      "outputs": []
    },
    {
      "cell_type": "code",
      "source": [
        "history = model.fit(new_features, new_labels, epochs=500, verbose=False)\n",
        "print(\"Finished training the model\")"
      ],
      "metadata": {
        "colab": {
          "base_uri": "https://localhost:8080/"
        },
        "id": "fVyC-oDUoea7",
        "outputId": "c4095222-3cd6-42ae-d0a4-e4f0b735e3cb"
      },
      "execution_count": 14,
      "outputs": [
        {
          "output_type": "stream",
          "name": "stdout",
          "text": [
            "Finished training the model\n"
          ]
        }
      ]
    },
    {
      "cell_type": "code",
      "source": [
        "import seaborn as sns\n",
        "import matplotlib.pyplot as plt\n",
        "\n",
        "sns.set_theme(style=\"ticks\")\n",
        "\n",
        "xaxs_val = np.arange(1, len(history.history['loss']) + 1)\n",
        "\n",
        "axs = sns.lineplot(x = xaxs_val, y = history.history['loss'])\n",
        "axs.set(xlabel='Epoch Number', ylabel='Loss', title = 'Loss Per Epoch')\n",
        "\n",
        "plt.show()"
      ],
      "metadata": {
        "colab": {
          "base_uri": "https://localhost:8080/",
          "height": 301
        },
        "id": "1IKUNdanoqXm",
        "outputId": "106a7170-909d-4f22-87cb-79e337e72bd6"
      },
      "execution_count": 15,
      "outputs": [
        {
          "output_type": "display_data",
          "data": {
            "image/png": "[encoded data removed]",
            "text/plain": [
              "<Figure size 432x288 with 1 Axes>"
            ]
          },
          "metadata": {}
        }
      ]
    },
    {
      "cell_type": "code",
      "source": [
        "predict_x = np.array([1, 2, 3, 4, 5, 120, 150, 180, 250, 6789, 12567], dtype=float)\n",
        "expected = predict_x * 3 + 20\n",
        "expected"
      ],
      "metadata": {
        "colab": {
          "base_uri": "https://localhost:8080/"
        },
        "id": "icCkpXqzo_lU",
        "outputId": "ca547b7a-d292-4134-abf7-9a4f0a33c158"
      },
      "execution_count": 16,
      "outputs": [
        {
          "output_type": "execute_result",
          "data": {
            "text/plain": [
              "array([2.3000e+01, 2.6000e+01, 2.9000e+01, 3.2000e+01, 3.5000e+01,\n",
              "       3.8000e+02, 4.7000e+02, 5.6000e+02, 7.7000e+02, 2.0387e+04,\n",
              "       3.7721e+04])"
            ]
          },
          "metadata": {},
          "execution_count": 16
        }
      ]
    },
    {
      "cell_type": "code",
      "source": [
        "model.predict(predict_x)"
      ],
      "metadata": {
        "colab": {
          "base_uri": "https://localhost:8080/"
        },
        "id": "qMZHNsZjos49",
        "outputId": "3eafdc06-8ac5-426f-e587-4803a092b8f0"
      },
      "execution_count": 17,
      "outputs": [
        {
          "output_type": "execute_result",
          "data": {
            "text/plain": [
              "array([[2.2100908e+01],\n",
              "       [2.5101374e+01],\n",
              "       [2.8101837e+01],\n",
              "       [3.1102303e+01],\n",
              "       [3.4102768e+01],\n",
              "       [3.7915613e+02],\n",
              "       [4.6917007e+02],\n",
              "       [5.5918402e+02],\n",
              "       [7.6921649e+02],\n",
              "       [2.0389252e+04],\n",
              "       [3.7725934e+04]], dtype=float32)"
            ]
          },
          "metadata": {},
          "execution_count": 17
        }
      ]
    },
    {
      "cell_type": "markdown",
      "source": [
        "## Explore the model values"
      ],
      "metadata": {
        "id": "BADuqhkxpk2i"
      }
    },
    {
      "cell_type": "code",
      "source": [
        "l0.get_weights()"
      ],
      "metadata": {
        "colab": {
          "base_uri": "https://localhost:8080/"
        },
        "id": "Vb7OdOQyo4Ag",
        "outputId": "f6bfc963-4fcd-449e-9cf7-38d2e09c3162"
      },
      "execution_count": 18,
      "outputs": [
        {
          "output_type": "execute_result",
          "data": {
            "text/plain": [
              "[array([[3.0004642]], dtype=float32), array([19.100445], dtype=float32)]"
            ]
          },
          "metadata": {},
          "execution_count": 18
        }
      ]
    },
    {
      "cell_type": "markdown",
      "source": [
        "## Train a new model with more layers"
      ],
      "metadata": {
        "id": "3THkWgBLb4ZQ"
      }
    },
    {
      "cell_type": "code",
      "source": [
        "l0 = tf.keras.layers.Dense(units=1, input_shape=[1])\n",
        "l1 = tf.keras.layers.Dense(units=1)\n",
        "l2 = tf.keras.layers.Dense(units=1)\n",
        "model2 = tf.keras.Sequential([l0, l1, l2])\n",
        "model2.compile(loss='mean_squared_error', optimizer=tf.keras.optimizers.Adam(0.1))\n",
        "history = model2.fit(new_features, new_labels, epochs=500, verbose=False)\n",
        "print(\"Finished training the model\")\n",
        "print(\"These are the l0 variables: {}\".format(l0.get_weights()))\n",
        "print(\"These are the l1 variables: {}\".format(l1.get_weights()))\n",
        "print(\"These are the l2 variables: {}\".format(l2.get_weights()))"
      ],
      "metadata": {
        "id": "VsA-_5tgppUX",
        "outputId": "99b2ea8e-c2e6-45e7-945c-e43e82d76085",
        "colab": {
          "base_uri": "https://localhost:8080/"
        }
      },
      "execution_count": 19,
      "outputs": [
        {
          "output_type": "stream",
          "name": "stdout",
          "text": [
            "Finished training the model\n",
            "These are the l0 variables: [array([[-1.4484289]], dtype=float32), array([-4.2845483], dtype=float32)]\n",
            "These are the l1 variables: [array([[-1.4824716]], dtype=float32), array([4.5189667], dtype=float32)]\n",
            "These are the l2 variables: [array([[1.3972198]], dtype=float32), array([4.454925], dtype=float32)]\n"
          ]
        }
      ]
    },
    {
      "cell_type": "code",
      "source": [
        "predict_x"
      ],
      "metadata": {
        "id": "7WWGglM3cqhZ",
        "outputId": "fbcce1f6-449d-46f4-e51f-3ad6dacd5fa6",
        "colab": {
          "base_uri": "https://localhost:8080/"
        }
      },
      "execution_count": 20,
      "outputs": [
        {
          "output_type": "execute_result",
          "data": {
            "text/plain": [
              "array([1.0000e+00, 2.0000e+00, 3.0000e+00, 4.0000e+00, 5.0000e+00,\n",
              "       1.2000e+02, 1.5000e+02, 1.8000e+02, 2.5000e+02, 6.7890e+03,\n",
              "       1.2567e+04])"
            ]
          },
          "metadata": {},
          "execution_count": 20
        }
      ]
    },
    {
      "cell_type": "code",
      "source": [
        "expected"
      ],
      "metadata": {
        "id": "NWF1iOu7cs3Z",
        "outputId": "633708f1-331a-4e51-9339-ab511a725f20",
        "colab": {
          "base_uri": "https://localhost:8080/"
        }
      },
      "execution_count": 21,
      "outputs": [
        {
          "output_type": "execute_result",
          "data": {
            "text/plain": [
              "array([2.3000e+01, 2.6000e+01, 2.9000e+01, 3.2000e+01, 3.5000e+01,\n",
              "       3.8000e+02, 4.7000e+02, 5.6000e+02, 7.7000e+02, 2.0387e+04,\n",
              "       3.7721e+04])"
            ]
          },
          "metadata": {},
          "execution_count": 21
        }
      ]
    },
    {
      "cell_type": "code",
      "source": [
        "model2.predict(predict_x)"
      ],
      "metadata": {
        "id": "K2aQ0P9gcBLU",
        "outputId": "f3df76f1-bc80-4e6e-c41b-389bef9e2aba",
        "colab": {
          "base_uri": "https://localhost:8080/"
        }
      },
      "execution_count": 22,
      "outputs": [
        {
          "output_type": "execute_result",
          "data": {
            "text/plain": [
              "array([[2.2643852e+01],\n",
              "       [2.5644039e+01],\n",
              "       [2.8644226e+01],\n",
              "       [3.1644413e+01],\n",
              "       [3.4644600e+01],\n",
              "       [3.7966608e+02],\n",
              "       [4.6967163e+02],\n",
              "       [5.5967725e+02],\n",
              "       [7.6969025e+02],\n",
              "       [2.0387910e+04],\n",
              "       [3.7722992e+04]], dtype=float32)"
            ]
          },
          "metadata": {},
          "execution_count": 22
        }
      ]
    },
    {
      "cell_type": "code",
      "source": [
        "history.history['loss'][490:]"
      ],
      "metadata": {
        "id": "GguRGPZTcX39",
        "outputId": "48d610ed-9918-4ff3-affa-ea4f5998bb9f",
        "colab": {
          "base_uri": "https://localhost:8080/"
        }
      },
      "execution_count": 23,
      "outputs": [
        {
          "output_type": "execute_result",
          "data": {
            "text/plain": [
              "[0.15171316266059875,\n",
              " 0.14792320132255554,\n",
              " 0.1442277729511261,\n",
              " 0.14060573279857635,\n",
              " 0.13708606362342834,\n",
              " 0.13363716006278992,\n",
              " 0.1302712857723236,\n",
              " 0.12698784470558167,\n",
              " 0.1237819567322731,\n",
              " 0.12065622955560684]"
            ]
          },
          "metadata": {},
          "execution_count": 23
        }
      ]
    },
    {
      "cell_type": "code",
      "source": [
        "import seaborn as sns\n",
        "import matplotlib.pyplot as plt\n",
        "\n",
        "sns.set_theme(style=\"ticks\")\n",
        "\n",
        "xaxs_val = np.arange(1, len(history.history['loss']) + 1)\n",
        "\n",
        "axs = sns.lineplot(x = xaxs_val, y = history.history['loss'])\n",
        "axs.set(xlabel='Epoch Number', ylabel='Loss', title = 'Loss Per Epoch')\n",
        "\n",
        "plt.show()"
      ],
      "metadata": {
        "id": "sNZSaBnQc-kb",
        "outputId": "d543c8d7-6fe7-4913-bc2c-af013b2ca9c1",
        "colab": {
          "base_uri": "https://localhost:8080/",
          "height": 301
        }
      },
      "execution_count": 24,
      "outputs": [
        {
          "output_type": "display_data",
          "data": {
            "image/png": "[encoded data removed]",
            "text/plain": [
              "<Figure size 432x288 with 1 Axes>"
            ]
          },
          "metadata": {}
        }
      ]
    },
    {
      "cell_type": "markdown",
      "source": [
        "## Plot expected vs. predictions in various models"
      ],
      "metadata": {
        "id": "GIYNLW1Bfx6K"
      }
    },
    {
      "cell_type": "code",
      "source": [
        "import pandas as pd"
      ],
      "metadata": {
        "id": "KxLZNnlasgVe"
      },
      "execution_count": 25,
      "outputs": []
    },
    {
      "cell_type": "markdown",
      "source": [
        "### Prepare the data for model1 predictions"
      ],
      "metadata": {
        "id": "H4smtbYwr-vx"
      }
    },
    {
      "cell_type": "code",
      "source": [
        "xval = np.arange(1, 101, dtype=float)"
      ],
      "metadata": {
        "id": "n1tIjX8sdDqs"
      },
      "execution_count": 32,
      "outputs": []
    },
    {
      "cell_type": "code",
      "source": [
        "predict_y = model.predict(xval)\n",
        "yval = []\n",
        "for py in predict_y:\n",
        "  yval.append(py[0])"
      ],
      "metadata": {
        "id": "qtnFHocfvAtb"
      },
      "execution_count": 33,
      "outputs": []
    },
    {
      "cell_type": "code",
      "source": [
        "df = pd.DataFrame({'xval' : xval, 'yval' : yval})\n",
        "df['model'] = 'model1'"
      ],
      "metadata": {
        "id": "x_swPx5PwVgc"
      },
      "execution_count": 34,
      "outputs": []
    },
    {
      "cell_type": "markdown",
      "source": [
        "### Prepare the data for model2 predictions"
      ],
      "metadata": {
        "id": "x9Y1_cB3sZG-"
      }
    },
    {
      "cell_type": "code",
      "source": [
        "predict_y = model2.predict(xval)\n",
        "yval = []\n",
        "for py in predict_y:\n",
        "  yval.append(py[0])"
      ],
      "metadata": {
        "id": "oaI_5F2bwgib"
      },
      "execution_count": 35,
      "outputs": []
    },
    {
      "cell_type": "code",
      "source": [
        "df2 = pd.DataFrame({'xval' : xval, 'yval' : yval})\n",
        "df2['model'] = 'model2'"
      ],
      "metadata": {
        "id": "W7gsmuJHsodX"
      },
      "execution_count": 36,
      "outputs": []
    },
    {
      "cell_type": "code",
      "source": [
        "df = df.append(df2)"
      ],
      "metadata": {
        "id": "hICV-O-Tsut9"
      },
      "execution_count": 38,
      "outputs": []
    },
    {
      "cell_type": "code",
      "source": [
        "df['expected'] = df['xval'] * 3 + 20"
      ],
      "metadata": {
        "id": "Hm8G-z3Uv8Do"
      },
      "execution_count": 50,
      "outputs": []
    },
    {
      "cell_type": "markdown",
      "source": [
        "### Plot the data"
      ],
      "metadata": {
        "id": "qfQ8WViutJ2c"
      }
    },
    {
      "cell_type": "code",
      "source": [
        "sns.scatterplot(data=df, x = \"xval\", y = \"yval\", hue='model')"
      ],
      "metadata": {
        "id": "71rRTY1jtHf6",
        "outputId": "7e1e566a-30d4-4c1d-fe40-0559b57a18c6",
        "colab": {
          "base_uri": "https://localhost:8080/",
          "height": 302
        }
      },
      "execution_count": 51,
      "outputs": [
        {
          "output_type": "execute_result",
          "data": {
            "text/plain": [
              "<matplotlib.axes._subplots.AxesSubplot at 0x7fd2aca3fbd0>"
            ]
          },
          "metadata": {},
          "execution_count": 51
        },
        {
          "output_type": "display_data",
          "data": {
            "image/png": "[encoded data removed]",
            "text/plain": [
              "<Figure size 432x288 with 1 Axes>"
            ]
          },
          "metadata": {}
        }
      ]
    },
    {
      "cell_type": "markdown",
      "source": [
        "The above graph "
      ],
      "metadata": {
        "id": "fph2PmqQudl9"
      }
    },
    {
      "cell_type": "code",
      "source": [
        "plt_df = df[df['xval'] < 10]"
      ],
      "metadata": {
        "id": "H6jkExDVt4ez"
      },
      "execution_count": 52,
      "outputs": []
    },
    {
      "cell_type": "code",
      "source": [
        "sns.scatterplot(data=plt_df, x = \"xval\", y = \"yval\", hue='model')"
      ],
      "metadata": {
        "id": "K4JdVxzku8dG",
        "outputId": "7ca3bc37-53bd-4604-9351-1fb7991619eb",
        "colab": {
          "base_uri": "https://localhost:8080/",
          "height": 302
        }
      },
      "execution_count": 53,
      "outputs": [
        {
          "output_type": "execute_result",
          "data": {
            "text/plain": [
              "<matplotlib.axes._subplots.AxesSubplot at 0x7fd2a658da50>"
            ]
          },
          "metadata": {},
          "execution_count": 53
        },
        {
          "output_type": "display_data",
          "data": {
            "image/png": "[encoded data removed]",
            "text/plain": [
              "<Figure size 432x288 with 1 Axes>"
            ]
          },
          "metadata": {}
        }
      ]
    },
    {
      "cell_type": "markdown",
      "source": [
        "### The values are so close, lets plot the diff"
      ],
      "metadata": {
        "id": "bI9sikD7vv1N"
      }
    },
    {
      "cell_type": "code",
      "source": [
        "df['diff'] = df['expected'] - df['yval']"
      ],
      "metadata": {
        "id": "IS0tIApMvOwM"
      },
      "execution_count": 55,
      "outputs": []
    },
    {
      "cell_type": "code",
      "source": [
        "sns.scatterplot(data=df, x = \"xval\", y = \"diff\", hue='model')"
      ],
      "metadata": {
        "id": "vhKiN2CIwE55",
        "outputId": "30ff23c8-e86c-4500-de95-9d6e60adbc04",
        "colab": {
          "base_uri": "https://localhost:8080/",
          "height": 302
        }
      },
      "execution_count": 57,
      "outputs": [
        {
          "output_type": "execute_result",
          "data": {
            "text/plain": [
              "<matplotlib.axes._subplots.AxesSubplot at 0x7fd2ab1a37d0>"
            ]
          },
          "metadata": {},
          "execution_count": 57
        },
        {
          "output_type": "display_data",
          "data": {
            "image/png": "[encoded data removed]",
            "text/plain": [
              "<Figure size 432x288 with 1 Axes>"
            ]
          },
          "metadata": {}
        }
      ]
    }
  ]
}