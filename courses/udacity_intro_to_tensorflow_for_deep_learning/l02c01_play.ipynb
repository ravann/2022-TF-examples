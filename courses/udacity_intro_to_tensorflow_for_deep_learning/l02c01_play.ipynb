{
  "nbformat": 4,
  "nbformat_minor": 0,
  "metadata": {
    "colab": {
      "name": "Untitled1.ipynb",
      "provenance": [],
      "authorship_tag": "ABX9TyNAJQceDAxGwDHp1kcHRyY6",
      "include_colab_link": true
    },
    "kernelspec": {
      "name": "python3",
      "display_name": "Python 3"
    },
    "language_info": {
      "name": "python"
    }
  },
  "cells": [
    {
      "cell_type": "markdown",
      "metadata": {
        "id": "view-in-github",
        "colab_type": "text"
      },
      "source": [
        "<a href=\"https://colab.research.google.com/github/ravann/2022-TF-examples/blob/master/courses/udacity_intro_to_tensorflow_for_deep_learning/l02c01_play.ipynb\" target=\"_parent\"><img src=\"https://colab.research.google.com/assets/colab-badge.svg\" alt=\"Open In Colab\"/></a>"
      ]
    },
    {
      "cell_type": "markdown",
      "source": [
        "## Purpose\n",
        "\n",
        "Build a model to predict the equation : y = 3x + 20"
      ],
      "metadata": {
        "id": "tF4zEGIxaTVI"
      }
    },
    {
      "cell_type": "code",
      "source": [
        "## Import dependencies\n",
        "\n",
        "import numpy as np\n",
        "import tensorflow as tf\n",
        "import logging"
      ],
      "metadata": {
        "id": "GKZSn8mcabaa"
      },
      "execution_count": 1,
      "outputs": []
    },
    {
      "cell_type": "markdown",
      "source": [
        "## Sample values\n",
        "\n"
      ],
      "metadata": {
        "id": "kfyIr4rJaoXt"
      }
    },
    {
      "cell_type": "code",
      "source": [
        "x = np.array([5.0, 6.6, 22.12, 55.5, 87.6, 9, 202.8], dtype=float)"
      ],
      "metadata": {
        "id": "HTM0WhRjaHrN"
      },
      "execution_count": 2,
      "outputs": []
    },
    {
      "cell_type": "code",
      "source": [
        "y = 3 * x + 20"
      ],
      "metadata": {
        "id": "dNynuWhzalAO"
      },
      "execution_count": 3,
      "outputs": []
    },
    {
      "cell_type": "code",
      "source": [
        "y"
      ],
      "metadata": {
        "colab": {
          "base_uri": "https://localhost:8080/"
        },
        "id": "bhsQWepZa--w",
        "outputId": "250c8bdd-6817-45b9-984d-1ff14a24abb6"
      },
      "execution_count": 4,
      "outputs": [
        {
          "output_type": "execute_result",
          "data": {
            "text/plain": [
              "array([ 35.  ,  39.8 ,  86.36, 186.5 , 282.8 ,  47.  , 628.4 ])"
            ]
          },
          "metadata": {},
          "execution_count": 4
        }
      ]
    },
    {
      "cell_type": "markdown",
      "source": [
        "## Build the model"
      ],
      "metadata": {
        "id": "7Ue42YHpbRFc"
      }
    },
    {
      "cell_type": "code",
      "source": [
        "dense10 = tf.keras.layers.Dense(units=1, input_shape=[1])\n",
        "model = tf.keras.Sequential([dense10])"
      ],
      "metadata": {
        "id": "AL-L1PmYbPBK"
      },
      "execution_count": 5,
      "outputs": []
    },
    {
      "cell_type": "code",
      "source": [
        "model.compile(loss='mean_squared_error',\n",
        "              optimizer=tf.keras.optimizers.Adam(0.1))"
      ],
      "metadata": {
        "id": "F2MNEctRbCId"
      },
      "execution_count": 6,
      "outputs": []
    },
    {
      "cell_type": "markdown",
      "source": [
        "## Train the model"
      ],
      "metadata": {
        "id": "HLw9ock2bwDP"
      }
    },
    {
      "cell_type": "code",
      "source": [
        "history = model.fit(x, y, epochs=500, verbose=False)\n",
        "print(\"Finished training the model\")"
      ],
      "metadata": {
        "colab": {
          "base_uri": "https://localhost:8080/"
        },
        "id": "laHSnMPLbqCt",
        "outputId": "10421655-773e-4653-a48d-6accecc70d22"
      },
      "execution_count": 7,
      "outputs": [
        {
          "output_type": "stream",
          "name": "stdout",
          "text": [
            "Finished training the model\n"
          ]
        }
      ]
    },
    {
      "cell_type": "code",
      "source": [
        "import matplotlib.pyplot as plt\n",
        "plt.xlabel('Epoch Number')\n",
        "plt.ylabel(\"Loss Magnitude\")\n",
        "plt.plot(history.history['loss'])"
      ],
      "metadata": {
        "colab": {
          "base_uri": "https://localhost:8080/",
          "height": 296
        },
        "id": "cIyzutaUbx2J",
        "outputId": "40f40f85-6cec-429d-96cd-33ac3505079a"
      },
      "execution_count": 8,
      "outputs": [
        {
          "output_type": "execute_result",
          "data": {
            "text/plain": [
              "[<matplotlib.lines.Line2D at 0x7fcfba102e10>]"
            ]
          },
          "metadata": {},
          "execution_count": 8
        },
        {
          "output_type": "display_data",
          "data": {
            "image/png": "[encoded data removed]",
            "text/plain": [
              "<Figure size 432x288 with 1 Axes>"
            ]
          },
          "metadata": {
            "needs_background": "light"
          }
        }
      ]
    },
    {
      "cell_type": "code",
      "source": [
        "import seaborn as sns\n",
        "import matplotlib.pyplot as plt\n",
        "\n",
        "sns.set_theme(style=\"ticks\")\n",
        "\n",
        "xaxs_val = np.arange(1, len(history.history['loss']) + 1)\n",
        "\n",
        "axs = sns.lineplot(x = xaxs_val, y = history.history['loss'])\n",
        "axs.set(xlabel='Epoch Number', ylabel='Loss', title = 'Loss Per Epoch')\n",
        "\n",
        "plt.show()"
      ],
      "metadata": {
        "colab": {
          "base_uri": "https://localhost:8080/",
          "height": 301
        },
        "id": "E-hd51uYcSg6",
        "outputId": "9923eb24-4e45-49f6-a493-9bebed825cab"
      },
      "execution_count": 9,
      "outputs": [
        {
          "output_type": "display_data",
          "data": {
            "image/png": "[encoded data removed]",
            "text/plain": [
              "<Figure size 432x288 with 1 Axes>"
            ]
          },
          "metadata": {}
        }
      ]
    },
    {
      "cell_type": "markdown",
      "source": [
        "## Predict some values and compare with the expected values"
      ],
      "metadata": {
        "id": "-KxGzYeGmvZy"
      }
    },
    {
      "cell_type": "code",
      "source": [
        "predict_x = np.array([1, 2, 3, 4, 5, 120, 150, 180], dtype=float)"
      ],
      "metadata": {
        "id": "ffll3w8VcvP-"
      },
      "execution_count": 11,
      "outputs": []
    },
    {
      "cell_type": "code",
      "source": [
        "expected = predict_x * 3 + 20\n",
        "expected"
      ],
      "metadata": {
        "colab": {
          "base_uri": "https://localhost:8080/"
        },
        "id": "NCRKxUTbm8Ew",
        "outputId": "5fdfca0d-6ab9-4e7d-a81d-2e460ca38911"
      },
      "execution_count": 12,
      "outputs": [
        {
          "output_type": "execute_result",
          "data": {
            "text/plain": [
              "array([ 23.,  26.,  29.,  32.,  35., 380., 470., 560.])"
            ]
          },
          "metadata": {},
          "execution_count": 12
        }
      ]
    },
    {
      "cell_type": "code",
      "source": [
        "model.predict(predict_x)"
      ],
      "metadata": {
        "colab": {
          "base_uri": "https://localhost:8080/"
        },
        "id": "3p7MZm1unCCk",
        "outputId": "b2871fbf-df94-4496-f068-ef9e0f0a03a8"
      },
      "execution_count": 13,
      "outputs": [
        {
          "output_type": "execute_result",
          "data": {
            "text/plain": [
              "array([[ 18.944153],\n",
              "       [ 21.974634],\n",
              "       [ 25.005117],\n",
              "       [ 28.035599],\n",
              "       [ 31.066082],\n",
              "       [379.57156 ],\n",
              "       [470.48605 ],\n",
              "       [561.4006  ]], dtype=float32)"
            ]
          },
          "metadata": {},
          "execution_count": 13
        }
      ]
    },
    {
      "cell_type": "markdown",
      "source": [
        "### Observation\n",
        "\n",
        "The model performs well at large numbers.  Is it because the model is not trained well at small numbers?"
      ],
      "metadata": {
        "id": "QYgC4h5PnTYU"
      }
    },
    {
      "cell_type": "markdown",
      "source": [
        "## Retrain the model with more snall numbers"
      ],
      "metadata": {
        "id": "Pb8NDvcOnhzE"
      }
    },
    {
      "cell_type": "code",
      "source": [
        "new_features = np.array([1, 3, 2.5, 3.6, 4.8, 5.9, 6, 9, 11, 12.4, 13.56, 15.8, 22, 25, 28, 32, 45, 78, 200, 2345.78], dtype=float)\n",
        "new_labels = new_features * 3 + 20"
      ],
      "metadata": {
        "id": "YjBrk-jKnK4Q"
      },
      "execution_count": 14,
      "outputs": []
    },
    {
      "cell_type": "code",
      "source": [
        "history = model.fit(new_features, new_labels, epochs=500, verbose=False)\n",
        "print(\"Finished training the model\")"
      ],
      "metadata": {
        "colab": {
          "base_uri": "https://localhost:8080/"
        },
        "id": "fVyC-oDUoea7",
        "outputId": "734091c7-4e18-43b6-f113-f10232c25ae8"
      },
      "execution_count": 15,
      "outputs": [
        {
          "output_type": "stream",
          "name": "stdout",
          "text": [
            "Finished training the model\n"
          ]
        }
      ]
    },
    {
      "cell_type": "code",
      "source": [
        "import seaborn as sns\n",
        "import matplotlib.pyplot as plt\n",
        "\n",
        "sns.set_theme(style=\"ticks\")\n",
        "\n",
        "xaxs_val = np.arange(1, len(history.history['loss']) + 1)\n",
        "\n",
        "axs = sns.lineplot(x = xaxs_val, y = history.history['loss'])\n",
        "axs.set(xlabel='Epoch Number', ylabel='Loss', title = 'Loss Per Epoch')\n",
        "\n",
        "plt.show()"
      ],
      "metadata": {
        "colab": {
          "base_uri": "https://localhost:8080/",
          "height": 301
        },
        "id": "1IKUNdanoqXm",
        "outputId": "603a10e1-e012-47c1-d38e-fda7ac5e727b"
      },
      "execution_count": 16,
      "outputs": [
        {
          "output_type": "display_data",
          "data": {
            "image/png": "[encoded data removed]",
            "text/plain": [
              "<Figure size 432x288 with 1 Axes>"
            ]
          },
          "metadata": {}
        }
      ]
    },
    {
      "cell_type": "code",
      "source": [
        "predict_x = np.array([1, 2, 3, 4, 5, 120, 150, 180, 250, 6789, 12567], dtype=float)\n",
        "expected = predict_x * 3 + 20\n",
        "expected"
      ],
      "metadata": {
        "colab": {
          "base_uri": "https://localhost:8080/"
        },
        "id": "icCkpXqzo_lU",
        "outputId": "104bacd2-17a1-4c0e-ec40-038a09519421"
      },
      "execution_count": 17,
      "outputs": [
        {
          "output_type": "execute_result",
          "data": {
            "text/plain": [
              "array([2.3000e+01, 2.6000e+01, 2.9000e+01, 3.2000e+01, 3.5000e+01,\n",
              "       3.8000e+02, 4.7000e+02, 5.6000e+02, 7.7000e+02, 2.0387e+04,\n",
              "       3.7721e+04])"
            ]
          },
          "metadata": {},
          "execution_count": 17
        }
      ]
    },
    {
      "cell_type": "code",
      "source": [
        "model.predict(predict_x)"
      ],
      "metadata": {
        "colab": {
          "base_uri": "https://localhost:8080/"
        },
        "id": "qMZHNsZjos49",
        "outputId": "09b8347b-7bb8-4812-ef21-a5bd0cdf91c0"
      },
      "execution_count": 18,
      "outputs": [
        {
          "output_type": "execute_result",
          "data": {
            "text/plain": [
              "array([[2.2974493e+01],\n",
              "       [2.5974506e+01],\n",
              "       [2.8974518e+01],\n",
              "       [3.1974531e+01],\n",
              "       [3.4974545e+01],\n",
              "       [3.7997604e+02],\n",
              "       [4.6997641e+02],\n",
              "       [5.5997681e+02],\n",
              "       [7.6997772e+02],\n",
              "       [2.0387062e+04],\n",
              "       [3.7721133e+04]], dtype=float32)"
            ]
          },
          "metadata": {},
          "execution_count": 18
        }
      ]
    },
    {
      "cell_type": "markdown",
      "source": [
        "## Explore the model values"
      ],
      "metadata": {
        "id": "BADuqhkxpk2i"
      }
    },
    {
      "cell_type": "code",
      "source": [
        "dense10"
      ],
      "metadata": {
        "colab": {
          "base_uri": "https://localhost:8080/"
        },
        "id": "Vb7OdOQyo4Ag",
        "outputId": "894f7dcc-1d0d-4884-f773-d82d1176cfcf"
      },
      "execution_count": 19,
      "outputs": [
        {
          "output_type": "execute_result",
          "data": {
            "text/plain": [
              "<keras.layers.core.dense.Dense at 0x7fcfba117550>"
            ]
          },
          "metadata": {},
          "execution_count": 19
        }
      ]
    },
    {
      "cell_type": "code",
      "source": [
        ""
      ],
      "metadata": {
        "id": "VsA-_5tgppUX"
      },
      "execution_count": 18,
      "outputs": []
    }
  ]
}