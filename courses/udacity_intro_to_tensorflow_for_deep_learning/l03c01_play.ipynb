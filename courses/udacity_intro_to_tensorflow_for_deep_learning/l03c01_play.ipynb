{
  "nbformat": 4,
  "nbformat_minor": 0,
  "metadata": {
    "colab": {
      "name": "Lesson 3 play",
      "provenance": [],
      "authorship_tag": "ABX9TyNtj6oarl9BdQTOFlwDrcni",
      "include_colab_link": true
    },
    "kernelspec": {
      "name": "python3",
      "display_name": "Python 3"
    },
    "language_info": {
      "name": "python"
    }
  },
  "cells": [
    {
      "cell_type": "markdown",
      "metadata": {
        "id": "view-in-github",
        "colab_type": "text"
      },
      "source": [
        "<a href=\"https://colab.research.google.com/github/ravann/2022-TF-examples/blob/master/courses/udacity_intro_to_tensorflow_for_deep_learning/l03c01_play.ipynb\" target=\"_parent\"><img src=\"https://colab.research.google.com/assets/colab-badge.svg\" alt=\"Open In Colab\"/></a>"
      ]
    },
    {
      "cell_type": "code",
      "execution_count": null,
      "metadata": {
        "id": "sWFxKI58xPSF"
      },
      "outputs": [],
      "source": [
        ""
      ]
    }
  ]
}